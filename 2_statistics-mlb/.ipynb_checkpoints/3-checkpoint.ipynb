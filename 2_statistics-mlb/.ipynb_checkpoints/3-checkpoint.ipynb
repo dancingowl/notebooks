{
 "cells": [
  {
   "cell_type": "markdown",
   "metadata": {
    "colab_type": "text",
    "id": "2NIWeIZSISme"
   },
   "source": [
    "##주가 데이터 불러오기 모듈 설치"
   ]
  },
  {
   "cell_type": "code",
   "execution_count": 1,
   "metadata": {
    "colab": {},
    "colab_type": "code",
    "id": "F37T96W7Dar4"
   },
   "outputs": [
    {
     "name": "stdout",
     "output_type": "stream",
     "text": [
      "Requirement already up-to-date: finance-datareader in /opt/conda/lib/python3.8/site-packages (0.9.6)\n",
      "Requirement already satisfied, skipping upgrade: lxml in /opt/conda/lib/python3.8/site-packages (from finance-datareader) (4.5.2)\n",
      "Requirement already satisfied, skipping upgrade: pandas>=0.19.2 in /opt/conda/lib/python3.8/site-packages (from finance-datareader) (1.1.0)\n",
      "Requirement already satisfied, skipping upgrade: requests>=2.3.0 in /opt/conda/lib/python3.8/site-packages (from finance-datareader) (2.24.0)\n",
      "Requirement already satisfied, skipping upgrade: requests-file in /opt/conda/lib/python3.8/site-packages (from finance-datareader) (1.5.1)\n",
      "Requirement already satisfied, skipping upgrade: python-dateutil>=2.7.3 in /opt/conda/lib/python3.8/site-packages (from pandas>=0.19.2->finance-datareader) (2.8.1)\n",
      "Requirement already satisfied, skipping upgrade: numpy>=1.15.4 in /opt/conda/lib/python3.8/site-packages (from pandas>=0.19.2->finance-datareader) (1.18.5)\n",
      "Requirement already satisfied, skipping upgrade: pytz>=2017.2 in /opt/conda/lib/python3.8/site-packages (from pandas>=0.19.2->finance-datareader) (2020.1)\n",
      "Requirement already satisfied, skipping upgrade: certifi>=2017.4.17 in /opt/conda/lib/python3.8/site-packages (from requests>=2.3.0->finance-datareader) (2020.6.20)\n",
      "Requirement already satisfied, skipping upgrade: urllib3!=1.25.0,!=1.25.1,<1.26,>=1.21.1 in /opt/conda/lib/python3.8/site-packages (from requests>=2.3.0->finance-datareader) (1.25.10)\n",
      "Requirement already satisfied, skipping upgrade: chardet<4,>=3.0.2 in /opt/conda/lib/python3.8/site-packages (from requests>=2.3.0->finance-datareader) (3.0.4)\n",
      "Requirement already satisfied, skipping upgrade: idna<3,>=2.5 in /opt/conda/lib/python3.8/site-packages (from requests>=2.3.0->finance-datareader) (2.10)\n",
      "Requirement already satisfied, skipping upgrade: six in /opt/conda/lib/python3.8/site-packages (from requests-file->finance-datareader) (1.15.0)\n"
     ]
    }
   ],
   "source": [
    "!pip install -U finance-datareader\n",
    "import FinanceDataReader as fdr"
   ]
  },
  {
   "cell_type": "code",
   "execution_count": 2,
   "metadata": {},
   "outputs": [],
   "source": [
    "#df_krx = fdr.StockListing('KRX')"
   ]
  },
  {
   "cell_type": "code",
   "execution_count": 3,
   "metadata": {
    "scrolled": true
   },
   "outputs": [],
   "source": [
    "# KRX stock delisting symbol list and names 상장폐지 종목 전체 리스트\n",
    "#krx_delisting = fdr.StockListing('KRX-DELISTING')"
   ]
  },
  {
   "cell_type": "markdown",
   "metadata": {
    "colab_type": "text",
    "id": "ECmYPEo4IZ06"
   },
   "source": [
    "기업 코드 알아보기"
   ]
  },
  {
   "cell_type": "code",
   "execution_count": 5,
   "metadata": {
    "colab": {},
    "colab_type": "code",
    "id": "z_5b7hxuFy2N"
   },
   "outputs": [
    {
     "name": "stdout",
     "output_type": "stream",
     "text": [
      "주식 코드 기업명 ?005930\n"
     ]
    },
    {
     "ename": "NameError",
     "evalue": "name 'df_krx' is not defined",
     "output_type": "error",
     "traceback": [
      "\u001b[0;31m---------------------------------------------------------------------------\u001b[0m",
      "\u001b[0;31mNameError\u001b[0m                                 Traceback (most recent call last)",
      "\u001b[0;32m<ipython-input-5-e8f7cf2915fd>\u001b[0m in \u001b[0;36m<module>\u001b[0;34m\u001b[0m\n\u001b[1;32m      1\u001b[0m \u001b[0mname\u001b[0m\u001b[0;34m=\u001b[0m\u001b[0minput\u001b[0m\u001b[0;34m(\u001b[0m\u001b[0;34m'주식 코드 기업명 ?'\u001b[0m\u001b[0;34m)\u001b[0m \u001b[0;31m#find 종목코드 및 정보\u001b[0m\u001b[0;34m\u001b[0m\u001b[0;34m\u001b[0m\u001b[0m\n\u001b[0;32m----> 2\u001b[0;31m \u001b[0mdf_krx\u001b[0m\u001b[0;34m[\u001b[0m\u001b[0mdf_krx\u001b[0m\u001b[0;34m[\u001b[0m\u001b[0;34m'Name'\u001b[0m\u001b[0;34m]\u001b[0m\u001b[0;34m.\u001b[0m\u001b[0mstr\u001b[0m\u001b[0;34m.\u001b[0m\u001b[0mcontains\u001b[0m\u001b[0;34m(\u001b[0m\u001b[0mname\u001b[0m\u001b[0;34m)\u001b[0m\u001b[0;34m]\u001b[0m\u001b[0;34m\u001b[0m\u001b[0;34m\u001b[0m\u001b[0m\n\u001b[0m",
      "\u001b[0;31mNameError\u001b[0m: name 'df_krx' is not defined"
     ]
    }
   ],
   "source": [
    "name=input('주식 코드 기업명 ?') #find 종목코드 및 정보\n",
    "df_krx[df_krx['Name'].str.contains(name)]"
   ]
  },
  {
   "cell_type": "markdown",
   "metadata": {
    "colab_type": "text",
    "id": "gTBVVEyVIfHI"
   },
   "source": [
    "관심 기업 데이터 불러오기"
   ]
  },
  {
   "cell_type": "code",
   "execution_count": 6,
   "metadata": {
    "colab": {},
    "colab_type": "code",
    "id": "wfiX4W4VGC2V"
   },
   "outputs": [],
   "source": [
    "삼성전자 = fdr.DataReader('005930', '2015-01-01', '2019-12-31')\n",
    "현대차 = fdr.DataReader('005380', '2015-01-01', '2019-12-31')\n",
    "셀트리온 = fdr.DataReader('068270', '2015-01-01', '2019-12-31')\n",
    "한전 = fdr.DataReader('015760', '2015-01-01', '2019-12-31')\n",
    "SK텔레컴 = fdr.DataReader('017670', '2015-01-01', '2019-12-31')"
   ]
  },
  {
   "cell_type": "markdown",
   "metadata": {
    "colab_type": "text",
    "id": "0yFCxErgIkJY"
   },
   "source": [
    "주가 종가 합치기"
   ]
  },
  {
   "cell_type": "code",
   "execution_count": 7,
   "metadata": {
    "colab": {},
    "colab_type": "code",
    "id": "HTLjoDiiImmW"
   },
   "outputs": [
    {
     "data": {
      "text/html": [
       "<div>\n",
       "<style scoped>\n",
       "    .dataframe tbody tr th:only-of-type {\n",
       "        vertical-align: middle;\n",
       "    }\n",
       "\n",
       "    .dataframe tbody tr th {\n",
       "        vertical-align: top;\n",
       "    }\n",
       "\n",
       "    .dataframe thead th {\n",
       "        text-align: right;\n",
       "    }\n",
       "</style>\n",
       "<table border=\"1\" class=\"dataframe\">\n",
       "  <thead>\n",
       "    <tr style=\"text-align: right;\">\n",
       "      <th></th>\n",
       "      <th>삼성전자</th>\n",
       "      <th>현대차</th>\n",
       "      <th>셀트리온</th>\n",
       "      <th>한전</th>\n",
       "      <th>SK텔레컴</th>\n",
       "    </tr>\n",
       "    <tr>\n",
       "      <th>Date</th>\n",
       "      <th></th>\n",
       "      <th></th>\n",
       "      <th></th>\n",
       "      <th></th>\n",
       "      <th></th>\n",
       "    </tr>\n",
       "  </thead>\n",
       "  <tbody>\n",
       "    <tr>\n",
       "      <th>2015-01-02</th>\n",
       "      <td>26600</td>\n",
       "      <td>169000</td>\n",
       "      <td>35532</td>\n",
       "      <td>42700</td>\n",
       "      <td>272500</td>\n",
       "    </tr>\n",
       "    <tr>\n",
       "      <th>2015-01-05</th>\n",
       "      <td>26660</td>\n",
       "      <td>168000</td>\n",
       "      <td>35350</td>\n",
       "      <td>42000</td>\n",
       "      <td>276500</td>\n",
       "    </tr>\n",
       "    <tr>\n",
       "      <th>2015-01-06</th>\n",
       "      <td>25900</td>\n",
       "      <td>164500</td>\n",
       "      <td>34715</td>\n",
       "      <td>41850</td>\n",
       "      <td>274500</td>\n",
       "    </tr>\n",
       "  </tbody>\n",
       "</table>\n",
       "</div>"
      ],
      "text/plain": [
       "             삼성전자     현대차   셀트리온     한전   SK텔레컴\n",
       "Date                                           \n",
       "2015-01-02  26600  169000  35532  42700  272500\n",
       "2015-01-05  26660  168000  35350  42000  276500\n",
       "2015-01-06  25900  164500  34715  41850  274500"
      ]
     },
     "execution_count": 7,
     "metadata": {},
     "output_type": "execute_result"
    }
   ],
   "source": [
    "import pandas as pd\n",
    "df = pd.concat([삼성전자['Close'],현대차['Close'],셀트리온['Close'],한전['Close'],SK텔레컴['Close']], axis=1)\n",
    "df.columns=['삼성전자','현대차','셀트리온','한전','SK텔레컴']\n",
    "df.head(3)"
   ]
  },
  {
   "cell_type": "markdown",
   "metadata": {
    "colab_type": "text",
    "id": "v9_WVLY7QlIZ"
   },
   "source": [
    "일별 수익률 계산"
   ]
  },
  {
   "cell_type": "code",
   "execution_count": 8,
   "metadata": {
    "colab": {},
    "colab_type": "code",
    "id": "XCzz3EYuQku7"
   },
   "outputs": [
    {
     "data": {
      "text/html": [
       "<div>\n",
       "<style scoped>\n",
       "    .dataframe tbody tr th:only-of-type {\n",
       "        vertical-align: middle;\n",
       "    }\n",
       "\n",
       "    .dataframe tbody tr th {\n",
       "        vertical-align: top;\n",
       "    }\n",
       "\n",
       "    .dataframe thead th {\n",
       "        text-align: right;\n",
       "    }\n",
       "</style>\n",
       "<table border=\"1\" class=\"dataframe\">\n",
       "  <thead>\n",
       "    <tr style=\"text-align: right;\">\n",
       "      <th></th>\n",
       "      <th>삼성전자</th>\n",
       "      <th>현대차</th>\n",
       "      <th>셀트리온</th>\n",
       "      <th>한전</th>\n",
       "      <th>SK텔레컴</th>\n",
       "    </tr>\n",
       "    <tr>\n",
       "      <th>Date</th>\n",
       "      <th></th>\n",
       "      <th></th>\n",
       "      <th></th>\n",
       "      <th></th>\n",
       "      <th></th>\n",
       "    </tr>\n",
       "  </thead>\n",
       "  <tbody>\n",
       "    <tr>\n",
       "      <th>2015-01-05</th>\n",
       "      <td>0.002256</td>\n",
       "      <td>-0.005917</td>\n",
       "      <td>-0.005122</td>\n",
       "      <td>-0.016393</td>\n",
       "      <td>0.014679</td>\n",
       "    </tr>\n",
       "    <tr>\n",
       "      <th>2015-01-06</th>\n",
       "      <td>-0.028507</td>\n",
       "      <td>-0.020833</td>\n",
       "      <td>-0.017963</td>\n",
       "      <td>-0.003571</td>\n",
       "      <td>-0.007233</td>\n",
       "    </tr>\n",
       "    <tr>\n",
       "      <th>2015-01-07</th>\n",
       "      <td>0.009266</td>\n",
       "      <td>0.033435</td>\n",
       "      <td>-0.009160</td>\n",
       "      <td>0.031063</td>\n",
       "      <td>-0.018215</td>\n",
       "    </tr>\n",
       "  </tbody>\n",
       "</table>\n",
       "</div>"
      ],
      "text/plain": [
       "                삼성전자       현대차      셀트리온        한전     SK텔레컴\n",
       "Date                                                        \n",
       "2015-01-05  0.002256 -0.005917 -0.005122 -0.016393  0.014679\n",
       "2015-01-06 -0.028507 -0.020833 -0.017963 -0.003571 -0.007233\n",
       "2015-01-07  0.009266  0.033435 -0.009160  0.031063 -0.018215"
      ]
     },
     "execution_count": 8,
     "metadata": {},
     "output_type": "execute_result"
    }
   ],
   "source": [
    "df0=df.diff(axis=0,periods=1)/df.shift(periods=1)\n",
    "df0.dropna(inplace=True)\n",
    "df0.head(3)"
   ]
  },
  {
   "cell_type": "markdown",
   "metadata": {
    "colab_type": "text",
    "id": "AdS0HyDoKdpC"
   },
   "source": [
    "연, 월, 일, 분기 변수 만들기"
   ]
  },
  {
   "cell_type": "code",
   "execution_count": 0,
   "metadata": {
    "colab": {},
    "colab_type": "code",
    "id": "3y8q0xGDJaIq"
   },
   "outputs": [],
   "source": [
    "import datetime\n",
    "df0['요일'] = df0.index.weekday\n",
    "df0['분기'] = df0.index.quarter\n",
    "df0['주'] = df0.index.week\n",
    "df0['연도'] = df0.index.year\n",
    "df0['월'] = df0.index.month\n",
    "df0.head(3)"
   ]
  },
  {
   "cell_type": "markdown",
   "metadata": {
    "colab_type": "text",
    "id": "PNdRCDxPKjKh"
   },
   "source": [
    "월별 수익율 계산"
   ]
  },
  {
   "cell_type": "code",
   "execution_count": 0,
   "metadata": {
    "colab": {},
    "colab_type": "code",
    "id": "rU0aU_i2JSOw"
   },
   "outputs": [],
   "source": [
    "df_rev = df0.groupby(['연도','월']).mean().iloc[:,0:5]\n",
    "df_rev.head(5)"
   ]
  },
  {
   "cell_type": "code",
   "execution_count": 0,
   "metadata": {
    "colab": {},
    "colab_type": "code",
    "id": "ANYMHyJSNYIj"
   },
   "outputs": [],
   "source": [
    "기대 월수익율 구하기"
   ]
  },
  {
   "cell_type": "code",
   "execution_count": 0,
   "metadata": {
    "colab": {},
    "colab_type": "code",
    "id": "t9vj43UxM4TX"
   },
   "outputs": [],
   "source": [
    "import numpy as np\n",
    "rev_array=np.array(df_rev)\n",
    "one = np.array(np.repeat(1,rev_array.shape[0]))\n",
    "exp = one.T@rev_array/rev_array.shape[0] \n",
    "exp"
   ]
  },
  {
   "cell_type": "markdown",
   "metadata": {
    "colab_type": "text",
    "id": "h_p97j3cOLDy"
   },
   "source": [
    "2개 포트폴리오(안) 구성"
   ]
  },
  {
   "cell_type": "code",
   "execution_count": 0,
   "metadata": {
    "colab": {},
    "colab_type": "code",
    "id": "mTfmE0dPNrQa"
   },
   "outputs": [],
   "source": [
    "w = np.array([[0.2, 0.2, 0.2, 0.2, 0.2],\n",
    "              [0.3, 0.1, 0.2, 0.1, 0.3],\n",
    "             [0.3,0.2,0.2,0.1,0.2]])"
   ]
  },
  {
   "cell_type": "markdown",
   "metadata": {
    "colab_type": "text",
    "id": "jtWwLglAOYsq"
   },
   "source": [
    "포트폴리오 기대 수익률"
   ]
  },
  {
   "cell_type": "code",
   "execution_count": 0,
   "metadata": {
    "colab": {},
    "colab_type": "code",
    "id": "VqwgUq7cOUlE"
   },
   "outputs": [],
   "source": [
    "w@exp "
   ]
  },
  {
   "cell_type": "markdown",
   "metadata": {
    "colab_type": "text",
    "id": "085PB6WdOYFM"
   },
   "source": [
    "공분산 행렬구하기"
   ]
  },
  {
   "cell_type": "code",
   "execution_count": 0,
   "metadata": {
    "colab": {},
    "colab_type": "code",
    "id": "lPSXeJv-PZoQ"
   },
   "outputs": [],
   "source": [
    "#공분산 Cov(X,Y) = E[(x-mu_x)*(y-mu_y)]\n",
    "exp_repeat = np.tile(exp,(rev_array.shape[0],1))\n",
    "A = rev_array.T - exp_repeat.T \n",
    "B = rev_array - exp_repeat \n",
    "(A @ B)  \n",
    "cov = (A @ B)/rev_array.shape[0]"
   ]
  },
  {
   "cell_type": "markdown",
   "metadata": {
    "colab_type": "text",
    "id": "nDpm5f2rQ_H_"
   },
   "source": [
    "포트폴리오 위험"
   ]
  },
  {
   "cell_type": "code",
   "execution_count": 0,
   "metadata": {
    "colab": {},
    "colab_type": "code",
    "id": "873cfpw1Q9gh"
   },
   "outputs": [],
   "source": [
    "w@cov@w.T"
   ]
  },
  {
   "cell_type": "markdown",
   "metadata": {
    "colab_type": "text",
    "id": "dQe7LSJdUStc"
   },
   "source": []
  },
  {
   "cell_type": "markdown",
   "metadata": {
    "colab_type": "text",
    "id": "eTQ2sAcJW1Qd"
   },
   "source": [
    "#과업 최소분산(위험) 포트폴리오 구성"
   ]
  },
  {
   "cell_type": "code",
   "execution_count": 0,
   "metadata": {
    "colab": {},
    "colab_type": "code",
    "id": "qTStrjPimGi1"
   },
   "outputs": [],
   "source": [
    "import numpy.linalg as lin\n",
    "np.array([1,1,1,1,1]).T@lin.inv(cov)\n",
    "np.array([1,1,1,1,1]).T@lin.inv(cov)@np.array([1,1,1,1,1])\n",
    "w = np.array((np.array([1,1,1,1,1]).T@lin.inv(cov))/(np.array([1,1,1,1,1]).T@lin.inv(cov)@np.array([1,1,1,1,1])))\n",
    "print('가중치',w,'기대수익률=',w.T@exp,'위험=',w.T@cov@w)"
   ]
  },
  {
   "cell_type": "markdown",
   "metadata": {
    "colab_type": "text",
    "id": "QP9nN3_qUgAz"
   },
   "source": [
    "##수비 위치에 따른 선수 연봉차이"
   ]
  },
  {
   "cell_type": "code",
   "execution_count": 0,
   "metadata": {
    "colab": {},
    "colab_type": "code",
    "id": "l8oMkmZdUGZB"
   },
   "outputs": [],
   "source": [
    "import pandas as pd\n",
    "salary=pd.read_csv('http://wolfpack.hnu.ac.kr/Big_Data/data/MLB1871_2018/Salaries.csv')\n",
    "field=pd.read_csv('http://203.247.53.31/Big_Data/data/MLB1871_2018/Fielding.csv')\n",
    "df_sal=salary[(salary.yearID==2016) & (salary.salary>0)]; df_field=field[field.yearID==2016]\n",
    "df_fin=pd.merge(df_sal,df_field,on='playerID')\n",
    "df_fin.head(3)"
   ]
  },
  {
   "cell_type": "code",
   "execution_count": 0,
   "metadata": {
    "colab": {},
    "colab_type": "code",
    "id": "lPvSfnOsbVN6"
   },
   "outputs": [],
   "source": [
    "pd.options.display.float_format = '{:.2f}'.format\n",
    "df0=df_fin.iloc[:,[2,4,9]]\n",
    "m_df=df0.groupby(['POS','lgID_x']).mean()\n",
    "sd_df=df0.groupby(['POS','lgID_x']).std()\n",
    "q1_df=df0.groupby(['POS','lgID_x']).quantile(0.25)\n",
    "q3_df=df0.groupby(['POS','lgID_x']).quantile(0.75)"
   ]
  },
  {
   "cell_type": "code",
   "execution_count": 0,
   "metadata": {
    "colab": {},
    "colab_type": "code",
    "id": "FDdTONc4IONM"
   },
   "outputs": [],
   "source": [
    "tab_df=pd.concat([m_df,sd_df,q1_df,q3_df],axis=1)\n",
    "tab_df.columns=(['평균','표준편차','1사분위','3사분위'])\n",
    "tab_df"
   ]
  },
  {
   "cell_type": "code",
   "execution_count": 0,
   "metadata": {
    "colab": {},
    "colab_type": "code",
    "id": "oci4LpRSTfTC"
   },
   "outputs": [],
   "source": [
    "import seaborn as sns\n",
    "sns.boxplot(x='POS', y='salary', hue='lgID_x',data=df_fin, palette=\"Set3\")"
   ]
  },
  {
   "cell_type": "code",
   "execution_count": 0,
   "metadata": {
    "colab": {},
    "colab_type": "code",
    "id": "VqQydLP7aVqq"
   },
   "outputs": [],
   "source": []
  }
 ],
 "metadata": {
  "colab": {
   "collapsed_sections": [],
   "name": "T아카데미3강20200109.ipynb",
   "private_outputs": true,
   "provenance": []
  },
  "kernelspec": {
   "display_name": "Python 3",
   "language": "python",
   "name": "python3"
  },
  "language_info": {
   "codemirror_mode": {
    "name": "ipython",
    "version": 3
   },
   "file_extension": ".py",
   "mimetype": "text/x-python",
   "name": "python",
   "nbconvert_exporter": "python",
   "pygments_lexer": "ipython3",
   "version": "3.8.5"
  }
 },
 "nbformat": 4,
 "nbformat_minor": 1
}
